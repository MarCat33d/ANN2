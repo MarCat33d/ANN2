{
    "cells": [
        {
            "cell_type": "code",
            "execution_count": 2,
            "metadata": {},
            "outputs": [],
            "source": "import numpy as np\nimport matplotlib.pyplot as plt\nimport pandas as pd"
        },
        {
            "cell_type": "code",
            "execution_count": 28,
            "metadata": {},
            "outputs": [
                {
                    "name": "stdout",
                    "output_type": "stream",
                    "text": "[[0.66801318 0.20452783]\n [0.72988639 0.2705482 ]\n [0.1554138  0.98428384]\n [0.17270821 0.22309665]\n [0.53273069 0.80160335]\n [0.06885581 0.1264238 ]\n [0.19096569 0.32971441]\n [0.06503707 0.13477831]\n [0.98714863 0.68852152]\n [0.68180444 0.4939801 ]]\n[[0.33335926 0.97328658]\n [0.58638912 0.28633685]\n [0.58988583 0.48865538]\n [0.64625964 0.05616138]\n [0.80924334 0.35640056]\n [0.68146255 0.11238724]\n [0.33244998 0.52874184]\n [0.89539693 0.7256419 ]\n [0.59895698 0.72491374]\n [0.13487276 0.13652162]]\n"
                }
            ],
            "source": "N = 10\nD = 2\n\nX = np.random.rand(N,D)\n\nW = np.random.rand(N, D)\n\nB = np.random.rand(1, D)\n\nprint(X)\nprint(W)\n"
        },
        {
            "cell_type": "code",
            "execution_count": 25,
            "metadata": {},
            "outputs": [],
            "source": "def Foward(X, W, B):\n    z = W.T.dot(X) + B\n    return 1 / ( 1 - np.exp(-z))\n"
        },
        {
            "cell_type": "code",
            "execution_count": null,
            "metadata": {},
            "outputs": [],
            "source": ""
        },
        {
            "cell_type": "code",
            "execution_count": null,
            "metadata": {},
            "outputs": [],
            "source": "\n"
        },
        {
            "cell_type": "code",
            "execution_count": 26,
            "metadata": {
                "scrolled": true
            },
            "outputs": [
                {
                    "name": "stdout",
                    "output_type": "stream",
                    "text": "[[1.05175194 1.25451899]\n [1.05269055 1.14459522]]\n"
                }
            ],
            "source": "Y_hat = Foward(X,W,B)\nprint(Y_hat)"
        },
        {
            "cell_type": "code",
            "execution_count": 68,
            "metadata": {},
            "outputs": [],
            "source": "type(X)\ntype(W)\nz = np.dot(W.T, X) + B"
        },
        {
            "cell_type": "code",
            "execution_count": 74,
            "metadata": {},
            "outputs": [
                {
                    "name": "stdout",
                    "output_type": "stream",
                    "text": "[1 2 4 4 7 4]\n[5 4 2 5 2 9]\n[-247 -247 -247 -247 -247 -247]\n"
                }
            ],
            "source": "print(X)\nprint(W.T)\nprint(z)"
        },
        {
            "cell_type": "code",
            "execution_count": null,
            "metadata": {},
            "outputs": [],
            "source": ""
        },
        {
            "cell_type": "code",
            "execution_count": null,
            "metadata": {},
            "outputs": [],
            "source": ""
        }
    ],
    "metadata": {
        "kernelspec": {
            "display_name": "Python 3.6",
            "language": "python",
            "name": "python3"
        },
        "language_info": {
            "codemirror_mode": {
                "name": "ipython",
                "version": 3
            },
            "file_extension": ".py",
            "mimetype": "text/x-python",
            "name": "python",
            "nbconvert_exporter": "python",
            "pygments_lexer": "ipython3",
            "version": "3.6.9"
        }
    },
    "nbformat": 4,
    "nbformat_minor": 1
}